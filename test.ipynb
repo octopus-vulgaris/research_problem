{
 "cells": [
  {
   "attachments": {},
   "cell_type": "markdown",
   "metadata": {},
   "source": [
    "## Research problem"
   ]
  },
  {
   "attachments": {},
   "cell_type": "markdown",
   "metadata": {},
   "source": [
    "Write a simple code to obtain a force-displacement curve that depends on different stiffness values."
   ]
  },
  {
   "cell_type": "code",
   "execution_count": 5,
   "metadata": {},
   "outputs": [],
   "source": [
    "from math import *\n",
    "import matplotlib as mpl\n",
    "import matplotlib.pyplot as plt\n",
    "import numpy as np\n",
    "from sympy import symbols\n",
    "from sympy import solveset, solve\n",
    "import sympy\n",
    "\n",
    "from sympy import solve_poly_system\n",
    "from scipy.optimize import fsolve\n",
    "\n",
    "import numpy as np\n",
    "from scipy.optimize import root\n",
    "\n",
    "from ipywidgets import interact, interactive, fixed, interact_manual\n",
    "import ipywidgets as widgets\n"
   ]
  },
  {
   "cell_type": "code",
   "execution_count": 6,
   "metadata": {},
   "outputs": [],
   "source": [
    "\n",
    "# some vars\n",
    "\n",
    "L_1y, L_1x, L_2x, L_2y = 1.0, 1.0, 1.0, 1.0\n",
    "k_1 = 1.0\n",
    "k_2 = 1.3\n",
    "\n",
    "L_1 = (L_1x**2 + L_1y**2)**0.5\n",
    "L_2 = sqrt(L_2x**2 + L_2y**2)\n",
    "\n",
<<<<<<< HEAD
    "# define the desired function for force by evaluating through piston replacement\n",
=======
    "# define \n",
>>>>>>> 4d13916846a0417abab17a4f608bbddd16a28003
    "def F_d(d, k = 1., L_x = 1., L_y = 1.):\n",
    "    # d - piston's displacement\n",
    "    L = (L_x**2 + L_y**2)**0.5 # spring length at initial moment\n",
    "    L_d = (L_x**2 + (L_y - d)**2)**0.5 # length after deformation\n",
    "    f_s = k*(L - L_d) # spring force\n",
    "    f_d = f_s * (L_y - d)/L_d # force to piston\n",
    "    return f_d\n",
    "\n",
    "\"\"\" # y_FD test data\n",
    "def func(x):\n",
    "    return F_d(x) - F_d(0.2345)\n",
    "\n",
    "sol = root(func, 0.25)\n",
    "sol.x\n",
    "sol.fun\n",
    "\n",
    "print(F_d(0.2345, 1.3)) \"\"\"\n",
    "\n",
    "\n",
    "# Inverse function. It requirers good starting points.\n",
    "def y_Fd(f_d, k = 1.3):\n",
    "    kk = k\n",
    "    set_x = [0, 1, 2]\n",
    "    def func(x):\n",
    "        return F_d(x, kk) - f_d\n",
    "    \n",
    "    ans = []\n",
    "    for x1 in set_x:\n",
    "        sol = root(func, x1)\n",
    "        ans.append(float(sol.x))\n",
    "    return ans\n",
    "\n",
    "#Searching \n"
   ]
  },
  {
   "attachments": {},
   "cell_type": "markdown",
   "metadata": {},
   "source": [
    "Next step. Create a procedure that calculate position of first and second piston in absolute coordinate system. Iteration algorithm find an equilibrium using condition of equality of Y-forces.\n",
    "\n",
    "\n",
    "We take y2 as input and evaluate equilibrium position of the first piston with y1 as the variable coordinate\n",
    "    we have:\n",
    "\n",
    "    y0 - origin of the coordinate system\n",
    "\n",
    "    y1 - coord. of the first piston\n",
    "\n",
    "    y2 - coord. of the second piston\n",
    "    "
<<<<<<< HEAD
=======
   ]
  },
  {
   "cell_type": "code",
   "execution_count": 3,
   "metadata": {},
   "outputs": [],
   "source": [
    "def my_func(y1, y2 = 2.5):\n",
    "        d1 = L_1y - y1 # displacement for F_d function\n",
    "        d2 = L_2y - (y2 - y1)\n",
    "        f_d1 = F_d(d1, k = 1.0)\n",
    "        f_d2 = F_d(d2, k = 1.3)\n",
    "        return f_d1 - f_d2\n",
    "\n",
    "def y1_y2(d1, d2):\n",
    "        y1 = L_1y - d1\n",
    "        y2 = L_2y - d2 + y1\n",
    "        return y1, y2\n"
>>>>>>> 4d13916846a0417abab17a4f608bbddd16a28003
   ]
  },
  {
   "cell_type": "code",
   "execution_count": 7,
   "metadata": {},
   "outputs": [],
   "source": [
    "def my_func(y1, y2 = 2.5):\n",
    "        d1 = L_1y - y1 # displacement for F_d function\n",
    "        d2 = L_2y - (y2 - y1)\n",
    "        f_d1 = F_d(d1, k = 1.0)\n",
    "        f_d2 = F_d(d2, k = 1.3)\n",
    "        return f_d1 - f_d2\n",
    "\n",
    "def y1_y2(d1, d2):\n",
    "        y1 = L_1y - d1\n",
    "        y2 = L_2y - d2 + y1\n",
    "        return y1, y2\n"
   ]
  },
  {
   "cell_type": "code",
   "execution_count": 8,
   "metadata": {},
   "outputs": [
    {
     "data": {
      "application/vnd.jupyter.widget-view+json": {
<<<<<<< HEAD
       "model_id": "0d13d49f006e47baa786ff9d964435c8",
=======
       "model_id": "042b59e97ad7455c8e6b5d32d2a02efc",
>>>>>>> 4d13916846a0417abab17a4f608bbddd16a28003
       "version_major": 2,
       "version_minor": 0
      },
      "text/plain": [
       "interactive(children=(FloatSlider(value=4.0, description='var', max=4.0, min=-2.0), Output()), _dom_classes=('…"
      ]
     },
     "metadata": {},
     "output_type": "display_data"
    }
   ],
   "source": [
    "# plotting\n",
    "\n",
    "#x1, y1 = 1, 1\n",
    "#x2, y2 = 2, 2\n",
    "\n",
    "x1, x2 = 1, 2\n",
    "\n",
    "def plot_data(var = 2.5, y1 = 1, y2 = 2):\n",
    "    \n",
    "    x = np.linspace(-2, 4, 100)  # Sample data.\n",
    "    \n",
    "    fig, apl = plt.subplots(1, 2, figsize=(10, 5), layout='constrained')\n",
    "\n",
    "    apl[0].plot(x, F_d(x, k = 1), label='F(d), k = 1.0', color=\"red\")\n",
    "    \n",
    "    apl[0].plot(x, my_func(x, var), label='y1 - 1st p. pos.')\n",
    "    #apl.plot(x, 1 - x, label='1')\n",
    "    #apl.plot(x, var - x, label='2')\n",
    "    \n",
    "    apl[0].axvline(0, color='black', linewidth=0.5)\n",
    "    apl[0].axhline(0, color='black', linewidth=0.5)\n",
    "\n",
    "    apl[0].set_xlabel('x')\n",
    "    apl[0].set_ylabel('y')\n",
    "    #apl[0].set_title('plot')\n",
    "    apl[0].legend()\n",
    "\n",
    "    apl[0].set_xlim(-2, 4)\n",
    "    apl[0].set_ylim(-3, 3)\n",
    "\n",
    "\n",
    "    apl[1].scatter(x1, y1, color='blue', s=100)\n",
    "    apl[1].scatter(x2, y2, color='red', s=100)\n",
    "    apl[1].plot([x1, x2], [y1, y2], color='black', linewidth = 2)\n",
    "    apl[1].plot([0, x1], [0, y1], color='black', linewidth = 2)\n",
    "    apl[1].set_xlim(0, 3)\n",
    "    apl[1].set_ylim(-5, 5)\n",
    "    apl[1].set_aspect('equal')\n",
    "    apl[1].grid()\n",
    "\n",
    "    plt.show()\n",
    "\n",
    "# create a slider for convenient use\n",
    "\n",
<<<<<<< HEAD
    "last_root = 2.11\n",
=======
    "last_root = 1.8\n",
>>>>>>> 4d13916846a0417abab17a4f608bbddd16a28003
    "y2_root = 1.0\n",
    "\n",
    "@interact(var=(-2, 4, 0.1))\n",
    "def update_plot(var=4.0):\n",
    "    global last_root, y2_root\n",
    "    sol = root(my_func, last_root, args=(var), method='excitingmixing')\n",
    "    print(\"root = \", sol.x)\n",
    "    print(\"last_root = \", last_root)\n",
    "    last_root = sol.x\n",
    "    y2_root = var\n",
    "    print(\"func_check = \", my_func(sol.x, var))\n",
    "    plot_data(var, y1 = last_root, y2 = y2_root)\n",
    "\n",
    "# need a starting point control\n"
   ]
  }
 ],
 "metadata": {
  "kernelspec": {
   "display_name": "Python 3",
   "language": "python",
   "name": "python3"
  },
  "language_info": {
   "codemirror_mode": {
    "name": "ipython",
    "version": 3
   },
   "file_extension": ".py",
   "mimetype": "text/x-python",
   "name": "python",
   "nbconvert_exporter": "python",
   "pygments_lexer": "ipython3",
   "version": "3.10.10"
  },
  "orig_nbformat": 4
 },
 "nbformat": 4,
 "nbformat_minor": 2
}
