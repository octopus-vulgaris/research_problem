{
 "cells": [
  {
   "attachments": {},
   "cell_type": "markdown",
   "metadata": {},
   "source": [
    "## Research problem"
   ]
  },
  {
   "attachments": {},
   "cell_type": "markdown",
   "metadata": {},
   "source": [
    "Write a simple code to obtain a force dicplacment curve for different stiffness values."
   ]
  },
  {
   "cell_type": "code",
   "execution_count": 1,
   "metadata": {},
   "outputs": [],
   "source": [
    "from math import *\n",
    "import matplotlib as mpl\n",
    "import matplotlib.pyplot as plt\n",
    "import numpy as np\n",
    "from sympy import symbols\n",
    "from sympy import solveset, solve\n",
    "import sympy\n",
    "\n",
    "from sympy import solve_poly_system\n",
    "from scipy.optimize import fsolve\n",
    "\n",
    "import numpy as np\n",
    "from scipy.optimize import root\n",
    "\n",
    "from ipywidgets import interact, interactive, fixed, interact_manual\n",
    "import ipywidgets as widgets\n"
   ]
  },
  {
   "cell_type": "code",
   "execution_count": 2,
   "metadata": {},
   "outputs": [
    {
     "name": "stdout",
     "output_type": "stream",
     "text": [
      "0.1223648131541711\n"
     ]
    }
   ],
   "source": [
    "\n",
    "# some vars\n",
    "\n",
    "L_1y, L_1x, L_2x, L_2y = 1.0, 1.0, 1.0, 1.0\n",
    "k_1 = 1.0\n",
    "k_2 = 1.3\n",
    "\n",
    "L_1 = (L_1x**2 + L_1y**2)**0.5\n",
    "L_2 = sqrt(L_2x**2 + L_2y**2)\n",
    "\n",
    "\n",
    "def F_d(d, k = 1., L_x = 1., L_y = 1.):\n",
    "    # d - piston's displacement\n",
    "    L = (L_x**2 + L_y**2)**0.5 # spring length at initial moment\n",
    "    L_d = (L_x**2 + (L_y - d)**2)**0.5 # length after deformation\n",
    "    f_s = k*(L - L_d) # spring force\n",
    "    f_d = f_s * (L_y - d)/L_d # force to piston\n",
    "    return f_d\n",
    "\n",
    "# x_FD test data\n",
    "def func(x):\n",
    "    return F_d(x) - F_d(0.2345)\n",
    "\n",
    "sol = root(func, 0.25)\n",
    "sol.x\n",
    "sol.fun\n",
    "\n",
    "print(F_d(0.2345, 1.3))\n",
    "\n",
    "\n",
    "# Inverse function. It requirers good starting points.\n",
    "def y_Fd(f_d, k = 1.3):\n",
    "    kk = k\n",
    "    set_x = [0, 1, 2]\n",
    "    def func(x):\n",
    "        return F_d(x, kk) - f_d\n",
    "    \n",
    "    ans = []\n",
    "    for x1 in set_x:\n",
    "        sol = root(func, x1)\n",
    "        ans.append(float(sol.x))\n",
    "    return ans\n",
    "\n",
    "#Searching \n"
   ]
  },
  {
   "cell_type": "code",
   "execution_count": 3,
   "metadata": {},
   "outputs": [],
   "source": [
    "\"\"\" def y_p(y2):\n",
    "    # we want to take y2 as input and evaluate equilibrium position of the first piston, with y1 as the output coordinate\n",
    "    # we have:\n",
    "    # y0 - origin of the coordinate system\n",
    "    # y1 - coord. of the first piston -- output\n",
    "    # y2 - coord. of the second piston -- input\n",
    "    \n",
    "    L_1y, L_1x, L_2x, L_2y = 1.0, 1.0, 1.0, 1.0\n",
    "    \n",
    "    # calculate the piston's displacement\n",
    "    \n",
    "    def my_func(y1):\n",
    "        d1 = L_1y - y1\n",
    "        d2 = y2 - y1\n",
    "        f_d1 = F_d(d1, k = 1.0)\n",
    "        f_d2 = F_d(d2, k = 1.3)\n",
    "        return f_d1 - f_d2\n",
    "\n",
    "    sol = root(my_func, 0.0)\n",
    "\n",
    "    return sol.x \"\"\"\n",
    "\n",
    "def my_func(y1, y2 = 2.5):\n",
    "        d1 = L_1y - y1\n",
    "        d2 = L_2y - (y2 - y1)\n",
    "        f_d1 = F_d(d1, k = 1.0)\n",
    "        f_d2 = F_d(d2, k = 1.3)\n",
    "        return f_d1 - f_d2\n"
   ]
  },
  {
   "attachments": {},
   "cell_type": "markdown",
   "metadata": {},
   "source": [
    "Next step. Create a procedure that calculate position of first and second piston in absolute coordinate system.\n",
    "1. Iteration algorithm find an equilibrium using condition of equality of Y-forces.\n",
    "\n"
   ]
  },
  {
   "cell_type": "code",
   "execution_count": 4,
   "metadata": {},
   "outputs": [
    {
     "data": {
      "application/vnd.jupyter.widget-view+json": {
       "model_id": "48d5b45460984db4b4dbdee57b28f252",
       "version_major": 2,
       "version_minor": 0
      },
      "text/plain": [
       "interactive(children=(FloatSlider(value=1.1, description='var', max=4.0, min=-2.0), Output()), _dom_classes=('…"
      ]
     },
     "metadata": {},
     "output_type": "display_data"
    }
   ],
   "source": [
    "def plot_data(var = 2.5):\n",
    "    \n",
    "    x = np.linspace(-2, 4, 100)  # Sample data.\n",
    "    \n",
    "    fig, apl = plt.subplots(figsize=(5, 5), layout='constrained')\n",
    "\n",
    "    apl.plot(x, F_d(x, k = 1), label='k = 1.0', color=\"red\")\n",
    "    \n",
    "    apl.plot(x, my_func(x, var), label='var')\n",
    "    #apl.plot(x, 1 - x, label='1')\n",
    "    #apl.plot(x, var - x, label='2')\n",
    "    \n",
    "    apl.axvline(0, color='black', linewidth=0.5)\n",
    "    apl.axhline(0, color='black', linewidth=0.5)\n",
    "\n",
    "    apl.set_xlabel('x')\n",
    "    apl.set_ylabel('y')\n",
    "    apl.set_title('plot')\n",
    "    apl.legend()\n",
    "\n",
    "    apl.set_xlim(-2, 4)\n",
    "    apl.set_ylim(-3, 3)\n",
    "\n",
    "    plt.show()\n",
    "\n",
    "\n",
    "\n",
    "@interact(var=(-2, 4, 0.1))\n",
    "def update_plot(var=1.1):\n",
    "    sol = root(my_func, var, args=(var), method='excitingmixing')\n",
    "    print(sol.x)\n",
    "    print(my_func(sol.x, var))\n",
    "    plot_data(var)\n"
   ]
  },
  {
   "cell_type": "code",
   "execution_count": null,
   "metadata": {},
   "outputs": [],
   "source": []
  }
 ],
 "metadata": {
  "kernelspec": {
   "display_name": "Python 3",
   "language": "python",
   "name": "python3"
  },
  "language_info": {
   "codemirror_mode": {
    "name": "ipython",
    "version": 3
   },
   "file_extension": ".py",
   "mimetype": "text/x-python",
   "name": "python",
   "nbconvert_exporter": "python",
   "pygments_lexer": "ipython3",
   "version": "3.10.10"
  },
  "orig_nbformat": 4
 },
 "nbformat": 4,
 "nbformat_minor": 2
}
