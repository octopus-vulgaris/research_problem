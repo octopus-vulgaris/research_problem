{
 "cells": [
  {
   "attachments": {},
   "cell_type": "markdown",
   "metadata": {},
   "source": [
    "## Research problem"
   ]
  },
  {
   "attachments": {},
   "cell_type": "markdown",
   "metadata": {},
   "source": [
    "Write a simple code to obtain a force dicplacment curve for different stiffness values."
   ]
  },
  {
   "cell_type": "code",
   "execution_count": null,
   "metadata": {},
   "outputs": [],
   "source": [
    "import matplotlib.pyplot as plt\n",
    "import numpy as np\n",
    "import ipywidgets as widgets\n",
    "from IPython.display import display\n",
    "\n",
    "# Define a function to plot the data\n",
    "def plot_data(freq):\n",
    "    x = np.linspace(0, 10, 1000)\n",
    "    y = np.sin(freq * x)\n",
    "    plt.plot(x, y)\n",
    "    plt.xlabel('Time')\n",
    "    plt.ylabel('Amplitude')\n",
    "    plt.title('Sine Wave')\n",
    "    plt.show()\n",
    "\n",
    "# Create a slider widget\n",
    "freq_slider = widgets.FloatSlider(\n",
    "    value=1.0,\n",
    "    min=0.5,\n",
    "    max=2.0,\n",
    "    step=0.1,\n",
    "    description='Frequency:'\n",
    ")\n",
    "\n",
    "# Define a function to update the plot when the slider is moved\n",
    "def update_plot(change):\n",
    "    freq = change.new\n",
    "    plot_data(freq)\n",
    "\n",
    "# Connect the slider to the update_plot function\n",
    "freq_slider.observe(update_plot, 'value')\n",
    "\n",
    "# Display the slider widget\n",
    "display(freq_slider)\n",
    "\n",
    "# Plot the initial data\n",
    "plot_data(freq_slider.value)\n"
   ]
  },
  {
   "cell_type": "code",
   "execution_count": null,
   "metadata": {},
   "outputs": [],
   "source": [
    "import matplotlib.pyplot as plt\n",
    "import numpy as np\n",
    "from ipywidgets import interact\n",
    "\n",
    "# Define a function to plot the data\n",
    "def plot_data(freq):\n",
    "    x = np.linspace(0, 10, 1000)\n",
    "    y = np.sin(freq * x)\n",
    "    plt.plot(x, y)\n",
    "    plt.xlabel('Time')\n",
    "    plt.ylabel('Amplitude')\n",
    "    plt.title('Sine Wave')\n",
    "    plt.show()\n",
    "\n",
    "# Use the @interact decorator to create a slider widget\n",
    "@interact(freq=(0.5, 2.0, 0.1))\n",
    "def update_plot(freq=1.0):\n",
    "    plot_data(freq)\n"
   ]
  },
  {
   "cell_type": "code",
   "execution_count": 13,
   "metadata": {},
   "outputs": [
    {
     "data": {
      "image/png": "[encoded data removed]",
      "text/plain": [
       "<Figure size 640x480 with 1 Axes>"
      ]
     },
     "metadata": {},
     "output_type": "display_data"
    },
    {
     "data": {
      "application/vnd.jupyter.widget-view+json": {
       "model_id": "4dcd9cb56a804855b1329001469d8cb7",
       "version_major": 2,
       "version_minor": 0
      },
      "text/plain": [
       "interactive(children=(FloatSlider(value=1.0, description='X1:', max=10.0), FloatSlider(value=3.0, description=…"
      ]
     },
     "metadata": {},
     "output_type": "display_data"
    },
    {
     "data": {
      "text/plain": [
       "<function __main__.update_plot(x1, y1, x2, y2)>"
      ]
     },
     "execution_count": 13,
     "metadata": {},
     "output_type": "execute_result"
    },
    {
     "ename": "",
     "evalue": "",
     "output_type": "error",
     "traceback": [
      "\u001b[1;31mThe Kernel crashed while executing code in the the current cell or a previous cell. Please review the code in the cell(s) to identify a possible cause of the failure. Click <a href='https://aka.ms/vscodeJupyterKernelCrash'>here</a> for more info. View Jupyter <a href='command:jupyter.viewOutput'>log</a> for further details."
     ]
    }
   ],
   "source": [
    "import matplotlib.pyplot as plt\n",
    "import numpy as np\n",
    "import ipywidgets as widgets\n",
    "from IPython.display import display\n",
    "\n",
    "# Define initial point coordinates and plot them\n",
    "x1, y1 = 1, 3\n",
    "x2, y2 = 2, 5\n",
    "\n",
    "fig, ax = plt.subplots()\n",
    "ax.scatter(x1, y1, color='blue', s=100)\n",
    "ax.scatter(x2, y2, color='red', s=100)\n",
    "ax.plot([x1, x2], [y1, y2], color='gray', linestyle='--')\n",
    "ax.set_xlim(0, 3)\n",
    "ax.set_ylim(-10, 10)\n",
    "ax.set_aspect('auto')\n",
    "#plt.show()\n",
    "\n",
    "# Define two slider widgets for the point positions\n",
    "x1_slider = widgets.FloatSlider(\n",
    "    value=x1,\n",
    "    min=0,\n",
    "    max=10,\n",
    "    step=0.1,\n",
    "    description='X1:'\n",
    ")\n",
    "y1_slider = widgets.FloatSlider(\n",
    "    value=y1,\n",
    "    min=-10,\n",
    "    max=10,\n",
    "    step=0.1,\n",
    "    description='Y1:'\n",
    ")\n",
    "x2_slider = widgets.FloatSlider(\n",
    "    value=x2,\n",
    "    min=0,\n",
    "    max=10,\n",
    "    step=0.1,\n",
    "    description='X2:'\n",
    ")\n",
    "y2_slider = widgets.FloatSlider(\n",
    "    value=y2,\n",
    "    min=-10,\n",
    "    max=10,\n",
    "    step=0.1,\n",
    "    description='Y2:'\n",
    ")\n",
    "\n",
    "# Define a function to update the plot when the sliders are moved\n",
    "def update_plot(x1, y1, x2, y2):\n",
    "    fig, ax = plt.subplots()\n",
    "    ax.scatter(x1, y1, color='blue', s=100)\n",
    "    ax.scatter(x2, y2, color='red', s=100)\n",
    "    ax.plot([x1, x2], [y1, y2], color='gray', linestyle='--')\n",
    "    ax.set_xlim(0, 3)\n",
    "    ax.set_ylim(0, 10)\n",
    "    ax.set_aspect('auto')\n",
    "    plt.show()\n",
    "\n",
    "# Connect the sliders to the update_plot function\n",
    "widgets.interact(\n",
    "    update_plot,\n",
    "    x1=x1_slider,\n",
    "    y1=y1_slider,\n",
    "    x2=x2_slider,\n",
    "    y2=y2_slider\n",
    ")\n"
   ]
  }
 ],
 "metadata": {
  "kernelspec": {
   "display_name": "Python 3",
   "language": "python",
   "name": "python3"
  },
  "language_info": {
   "codemirror_mode": {
    "name": "ipython",
    "version": 3
   },
   "file_extension": ".py",
   "mimetype": "text/x-python",
   "name": "python",
   "nbconvert_exporter": "python",
   "pygments_lexer": "ipython3",
   "version": "3.10.10"
  },
  "orig_nbformat": 4
 },
 "nbformat": 4,
 "nbformat_minor": 2
}
